{
 "cells": [
  {
   "cell_type": "code",
   "execution_count": 1,
   "id": "471b1787-97e4-4f17-8fdd-41a4a3e7f035",
   "metadata": {},
   "outputs": [],
   "source": [
    "from time import sleep\n",
    "from selenium import webdriver\n",
    "from selenium.webdriver.common.by import By\n",
    "from selenium.webdriver.chrome.options import Options\n",
    "from selenium.webdriver.chrome.service import Service\n",
    "from webdriver_manager.chrome import ChromeDriverManager"
   ]
  },
  {
   "cell_type": "code",
   "execution_count": 4,
   "id": "62d29763-beab-4b29-ba3b-53ce2333605d",
   "metadata": {},
   "outputs": [],
   "source": [
    "opts=Options()"
   ]
  },
  {
   "cell_type": "code",
   "execution_count": null,
   "id": "afa6907c-a644-45ec-b678-ee411657741a",
   "metadata": {},
   "outputs": [],
   "source": [
    "#lets create the user agent"
   ]
  },
  {
   "cell_type": "code",
   "execution_count": 5,
   "id": "8131c663-fcb5-45e0-b35d-fbbc14a3bad6",
   "metadata": {},
   "outputs": [],
   "source": [
    "opts.add_argument(\"user-agent=Mozilla/5.0 (Macintosh; Intel Mac OS X 10_15_7) AppleWebKit/537.36 (KHTML, like Gecko) Chrome/113.0.0.0 Safari/537.36\")\n"
   ]
  },
  {
   "cell_type": "code",
   "execution_count": 24,
   "id": "c49ccb5e-faac-402d-8a37-d043e8cb04a1",
   "metadata": {},
   "outputs": [],
   "source": [
    "driver = webdriver.Chrome()\n",
    "page_url=\"https://www.airbnb.com/\"\n",
    "sleep(3)\n",
    "driver.get(page_url)"
   ]
  },
  {
   "cell_type": "code",
   "execution_count": 25,
   "id": "4fd39fbf-d177-45cd-ab0c-2bb90bb96d43",
   "metadata": {},
   "outputs": [],
   "source": [
    "titles_Ads= driver.find_elements(By.XPATH, '//div[@class=\"itu7ddv i1mla2as i1cqnm0r dir dir-ltr\"]')"
   ]
  },
  {
   "cell_type": "code",
   "execution_count": 26,
   "id": "3dd8e81c-abe9-4d85-994c-182fefbb0ad9",
   "metadata": {},
   "outputs": [],
   "source": [
    "for titles in titles_Ads:\n",
    "        print(titles.text)"
   ]
  }
 ],
 "metadata": {
  "kernelspec": {
   "display_name": "Python 3 (ipykernel)",
   "language": "python",
   "name": "python3"
  },
  "language_info": {
   "codemirror_mode": {
    "name": "ipython",
    "version": 3
   },
   "file_extension": ".py",
   "mimetype": "text/x-python",
   "name": "python",
   "nbconvert_exporter": "python",
   "pygments_lexer": "ipython3",
   "version": "3.10.9"
  }
 },
 "nbformat": 4,
 "nbformat_minor": 5
}
