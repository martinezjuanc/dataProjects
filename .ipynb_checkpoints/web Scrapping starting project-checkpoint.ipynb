{
 "cells": [
  {
   "cell_type": "code",
   "execution_count": 38,
   "id": "c3575b92-bb79-48c5-ad21-7a1fa52510c7",
   "metadata": {},
   "outputs": [],
   "source": [
    "import pandas as pd\n",
    "from selenium import webdriver\n",
    "from selenium.webdriver.common.by import By"
   ]
  },
  {
   "cell_type": "code",
   "execution_count": 31,
   "id": "65033e86-33eb-4882-88ed-825e9ecbc6b5",
   "metadata": {},
   "outputs": [],
   "source": [
    "driver = webdriver.Chrome()\n",
    "page_url=\"https://es.wikipedia.org/wiki/Familia_Rothschild\"\n",
    "driver.get(page_url)"
   ]
  },
  {
   "cell_type": "code",
   "execution_count": 33,
   "id": "c865fd76-b64f-4e8f-b735-bb5a68cc1251",
   "metadata": {},
   "outputs": [
    {
     "name": "stdout",
     "output_type": "stream",
     "text": [
      "Title Page: Familia Rothschild - Wikipedia, la enciclopedia libre\n"
     ]
    }
   ],
   "source": [
    "title = driver.title\n",
    "print(\"Title Page:\", title)"
   ]
  },
  {
   "cell_type": "code",
   "execution_count": 35,
   "id": "b02bf66f-210d-4c2a-b2a9-628ed34c508c",
   "metadata": {},
   "outputs": [],
   "source": [
    "driver.implicitly_wait(10)"
   ]
  },
  {
   "cell_type": "code",
   "execution_count": 45,
   "id": "8bcb157d-7587-4857-aa31-83df2b622dd9",
   "metadata": {},
   "outputs": [],
   "source": [
    "contenido_principal = driver.find_element(By.ID, \"content\")"
   ]
  },
  {
   "cell_type": "code",
   "execution_count": 60,
   "id": "0aa7438e-8dae-4708-87c4-74683960c13f",
   "metadata": {},
   "outputs": [],
   "source": [
    "texto_pagina = contenido_principal.text"
   ]
  },
  {
   "cell_type": "code",
   "execution_count": null,
   "id": "ae291aab-b3ff-4a07-bbad-f7b9c08e16ce",
   "metadata": {},
   "outputs": [],
   "source": [
    "print(texto_pagina)"
   ]
  },
  {
   "cell_type": "code",
   "execution_count": 63,
   "id": "6d635688-7f61-4b8a-822f-06e139d32588",
   "metadata": {},
   "outputs": [],
   "source": [
    "archivo_path = \"C:\\\\Users\\\\juamarti11\\\\Documents\\\\pagina_wikipedia.txt\"\n",
    "with open(archivo_path, \"w\", encoding=\"utf-8\") as archivo:\n",
    "    archivo.write(texto_pagina)"
   ]
  }
 ],
 "metadata": {
  "kernelspec": {
   "display_name": "Python 3 (ipykernel)",
   "language": "python",
   "name": "python3"
  },
  "language_info": {
   "codemirror_mode": {
    "name": "ipython",
    "version": 3
   },
   "file_extension": ".py",
   "mimetype": "text/x-python",
   "name": "python",
   "nbconvert_exporter": "python",
   "pygments_lexer": "ipython3",
   "version": "3.10.9"
  }
 },
 "nbformat": 4,
 "nbformat_minor": 5
}
