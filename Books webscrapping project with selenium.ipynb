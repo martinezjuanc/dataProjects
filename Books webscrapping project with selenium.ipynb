{
 "cells": [
  {
   "cell_type": "code",
   "execution_count": 1,
   "id": "662aaff1-6436-419d-9f69-b19ecc96ddbb",
   "metadata": {},
   "outputs": [],
   "source": [
    "import pandas as pd\n",
    "from selenium import webdriver\n",
    "from selenium.webdriver.common.by import By"
   ]
  },
  {
   "cell_type": "code",
   "execution_count": 2,
   "id": "6c0e558b-c422-47dd-8b9f-4a0fc5b32578",
   "metadata": {},
   "outputs": [],
   "source": [
    "driver = webdriver.Chrome()\n",
    "page_url=\"https://witcher.fandom.com/wiki/Category:Characters_in_the_stories\"\n",
    "driver.get(page_url)"
   ]
  },
  {
   "cell_type": "code",
   "execution_count": null,
   "id": "3c79dfb2-4e3c-489c-8452-ac29cd5dc693",
   "metadata": {},
   "outputs": [],
   "source": [
    "from selenium.webdriver.common.by import By\n",
    "driver.find_element(By.XPATH '//div[text()=\"ACCEPT\"]').click()"
   ]
  },
  {
   "cell_type": "code",
   "execution_count": null,
   "id": "885b6808-dac2-47ba-b69d-d51aa9f33bae",
   "metadata": {},
   "outputs": [],
   "source": [
    "#lets find the books\n",
    "book_categories="
   ]
  }
 ],
 "metadata": {
  "kernelspec": {
   "display_name": "Python 3 (ipykernel)",
   "language": "python",
   "name": "python3"
  },
  "language_info": {
   "codemirror_mode": {
    "name": "ipython",
    "version": 3
   },
   "file_extension": ".py",
   "mimetype": "text/x-python",
   "name": "python",
   "nbconvert_exporter": "python",
   "pygments_lexer": "ipython3",
   "version": "3.10.9"
  }
 },
 "nbformat": 4,
 "nbformat_minor": 5
}
